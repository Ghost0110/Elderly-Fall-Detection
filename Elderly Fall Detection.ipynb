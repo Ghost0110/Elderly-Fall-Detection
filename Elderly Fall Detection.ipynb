{
 "cells": [
  {
   "cell_type": "code",
   "execution_count": 1,
   "metadata": {},
   "outputs": [],
   "source": [
    "import pandas as pd\n",
    "import numpy as np"
   ]
  },
  {
   "cell_type": "code",
   "execution_count": 2,
   "metadata": {},
   "outputs": [],
   "source": [
    "data_xls = pd.read_excel(r'C:\\Users\\Hp\\Downloads\\ExtractedFeatures_Plus_subsetData.xlsx', index_col=None)\n",
    "data_xls.to_csv('csvfile.csv', encoding='utf-8', index = False)\n",
    "# r before path is to ensure its regarded as a raw string and not like any other string"
   ]
  },
  {
   "cell_type": "code",
   "execution_count": 3,
   "metadata": {},
   "outputs": [
    {
     "data": {
      "text/html": [
       "<div>\n",
       "<style scoped>\n",
       "    .dataframe tbody tr th:only-of-type {\n",
       "        vertical-align: middle;\n",
       "    }\n",
       "\n",
       "    .dataframe tbody tr th {\n",
       "        vertical-align: top;\n",
       "    }\n",
       "\n",
       "    .dataframe thead th {\n",
       "        text-align: right;\n",
       "    }\n",
       "</style>\n",
       "<table border=\"1\" class=\"dataframe\">\n",
       "  <thead>\n",
       "    <tr style=\"text-align: right;\">\n",
       "      <th></th>\n",
       "      <th>Mean_x</th>\n",
       "      <th>Mean_y</th>\n",
       "      <th>Mean_z</th>\n",
       "      <th>Median_x</th>\n",
       "      <th>Median_y</th>\n",
       "      <th>Median_z</th>\n",
       "      <th>Min_x</th>\n",
       "      <th>Min_y</th>\n",
       "      <th>Min_z</th>\n",
       "      <th>Max_x</th>\n",
       "      <th>...</th>\n",
       "      <th>Right leg bone mass</th>\n",
       "      <th>Left leg total mass (kg)</th>\n",
       "      <th>Left leg tissue mass</th>\n",
       "      <th>Left leg fat free mass</th>\n",
       "      <th>Left leg lean mass</th>\n",
       "      <th>Left leg fat mass</th>\n",
       "      <th>Left leg bone mass</th>\n",
       "      <th>sway trace length</th>\n",
       "      <th>falls previous</th>\n",
       "      <th>falls after study combined</th>\n",
       "    </tr>\n",
       "  </thead>\n",
       "  <tbody>\n",
       "    <tr>\n",
       "      <td>0</td>\n",
       "      <td>-0.423737</td>\n",
       "      <td>0.021819</td>\n",
       "      <td>-0.330184</td>\n",
       "      <td>-0.444600</td>\n",
       "      <td>0.020301</td>\n",
       "      <td>-0.334125</td>\n",
       "      <td>-1.215443</td>\n",
       "      <td>-0.716660</td>\n",
       "      <td>-1.040794</td>\n",
       "      <td>0.405263</td>\n",
       "      <td>...</td>\n",
       "      <td>606</td>\n",
       "      <td>11.6</td>\n",
       "      <td>10984</td>\n",
       "      <td>8582</td>\n",
       "      <td>7986</td>\n",
       "      <td>2998</td>\n",
       "      <td>595</td>\n",
       "      <td>1583</td>\n",
       "      <td>0</td>\n",
       "      <td>0</td>\n",
       "    </tr>\n",
       "    <tr>\n",
       "      <td>1</td>\n",
       "      <td>-0.087148</td>\n",
       "      <td>-0.462259</td>\n",
       "      <td>-0.096391</td>\n",
       "      <td>-0.097399</td>\n",
       "      <td>-0.462144</td>\n",
       "      <td>-0.095909</td>\n",
       "      <td>-0.299703</td>\n",
       "      <td>-0.816102</td>\n",
       "      <td>-0.271787</td>\n",
       "      <td>0.205384</td>\n",
       "      <td>...</td>\n",
       "      <td>479</td>\n",
       "      <td>11.9</td>\n",
       "      <td>11443</td>\n",
       "      <td>7365</td>\n",
       "      <td>6907</td>\n",
       "      <td>4537</td>\n",
       "      <td>459</td>\n",
       "      <td>388</td>\n",
       "      <td>0</td>\n",
       "      <td>0</td>\n",
       "    </tr>\n",
       "    <tr>\n",
       "      <td>2</td>\n",
       "      <td>0.024604</td>\n",
       "      <td>-0.440365</td>\n",
       "      <td>-0.088574</td>\n",
       "      <td>0.015755</td>\n",
       "      <td>-0.447316</td>\n",
       "      <td>-0.095221</td>\n",
       "      <td>-0.278861</td>\n",
       "      <td>-0.940211</td>\n",
       "      <td>-0.462715</td>\n",
       "      <td>0.495626</td>\n",
       "      <td>...</td>\n",
       "      <td>527</td>\n",
       "      <td>10.0</td>\n",
       "      <td>9524</td>\n",
       "      <td>8833</td>\n",
       "      <td>8318</td>\n",
       "      <td>1206</td>\n",
       "      <td>515</td>\n",
       "      <td>1671</td>\n",
       "      <td>0</td>\n",
       "      <td>0</td>\n",
       "    </tr>\n",
       "    <tr>\n",
       "      <td>3</td>\n",
       "      <td>-0.054298</td>\n",
       "      <td>-0.495041</td>\n",
       "      <td>-0.215878</td>\n",
       "      <td>-0.060291</td>\n",
       "      <td>-0.495915</td>\n",
       "      <td>-0.218912</td>\n",
       "      <td>-0.239450</td>\n",
       "      <td>-0.804632</td>\n",
       "      <td>-0.442392</td>\n",
       "      <td>0.201034</td>\n",
       "      <td>...</td>\n",
       "      <td>381</td>\n",
       "      <td>11.0</td>\n",
       "      <td>10563</td>\n",
       "      <td>6802</td>\n",
       "      <td>6398</td>\n",
       "      <td>4165</td>\n",
       "      <td>404</td>\n",
       "      <td>370</td>\n",
       "      <td>0</td>\n",
       "      <td>0</td>\n",
       "    </tr>\n",
       "    <tr>\n",
       "      <td>4</td>\n",
       "      <td>0.056221</td>\n",
       "      <td>-0.517619</td>\n",
       "      <td>0.381889</td>\n",
       "      <td>0.051731</td>\n",
       "      <td>-0.521420</td>\n",
       "      <td>0.383361</td>\n",
       "      <td>-0.088581</td>\n",
       "      <td>-0.711505</td>\n",
       "      <td>0.211637</td>\n",
       "      <td>0.258780</td>\n",
       "      <td>...</td>\n",
       "      <td>352</td>\n",
       "      <td>10.9</td>\n",
       "      <td>10568</td>\n",
       "      <td>6499</td>\n",
       "      <td>6159</td>\n",
       "      <td>4409</td>\n",
       "      <td>340</td>\n",
       "      <td>306</td>\n",
       "      <td>1</td>\n",
       "      <td>1</td>\n",
       "    </tr>\n",
       "  </tbody>\n",
       "</table>\n",
       "<p>5 rows × 59 columns</p>\n",
       "</div>"
      ],
      "text/plain": [
       "     Mean_x    Mean_y    Mean_z  Median_x  Median_y  Median_z     Min_x  \\\n",
       "0 -0.423737  0.021819 -0.330184 -0.444600  0.020301 -0.334125 -1.215443   \n",
       "1 -0.087148 -0.462259 -0.096391 -0.097399 -0.462144 -0.095909 -0.299703   \n",
       "2  0.024604 -0.440365 -0.088574  0.015755 -0.447316 -0.095221 -0.278861   \n",
       "3 -0.054298 -0.495041 -0.215878 -0.060291 -0.495915 -0.218912 -0.239450   \n",
       "4  0.056221 -0.517619  0.381889  0.051731 -0.521420  0.383361 -0.088581   \n",
       "\n",
       "      Min_y     Min_z     Max_x  ...  Right leg bone mass  \\\n",
       "0 -0.716660 -1.040794  0.405263  ...                  606   \n",
       "1 -0.816102 -0.271787  0.205384  ...                  479   \n",
       "2 -0.940211 -0.462715  0.495626  ...                  527   \n",
       "3 -0.804632 -0.442392  0.201034  ...                  381   \n",
       "4 -0.711505  0.211637  0.258780  ...                  352   \n",
       "\n",
       "   Left leg total mass (kg)  Left leg tissue mass  Left leg fat free mass  \\\n",
       "0                      11.6                 10984                    8582   \n",
       "1                      11.9                 11443                    7365   \n",
       "2                      10.0                  9524                    8833   \n",
       "3                      11.0                 10563                    6802   \n",
       "4                      10.9                 10568                    6499   \n",
       "\n",
       "   Left leg lean mass  Left leg fat mass  Left leg bone mass  \\\n",
       "0                7986               2998                 595   \n",
       "1                6907               4537                 459   \n",
       "2                8318               1206                 515   \n",
       "3                6398               4165                 404   \n",
       "4                6159               4409                 340   \n",
       "\n",
       "   sway trace length  falls previous  falls after study combined  \n",
       "0               1583               0                           0  \n",
       "1                388               0                           0  \n",
       "2               1671               0                           0  \n",
       "3                370               0                           0  \n",
       "4                306               1                           1  \n",
       "\n",
       "[5 rows x 59 columns]"
      ]
     },
     "execution_count": 3,
     "metadata": {},
     "output_type": "execute_result"
    }
   ],
   "source": [
    "data_xls.head()"
   ]
  },
  {
   "cell_type": "code",
   "execution_count": 4,
   "metadata": {},
   "outputs": [],
   "source": [
    "X = data_xls.iloc[:, :-1].values\n",
    "y = data_xls.iloc[:, -1].values"
   ]
  },
  {
   "cell_type": "code",
   "execution_count": 5,
   "metadata": {},
   "outputs": [
    {
     "name": "stdout",
     "output_type": "stream",
     "text": [
      "Independent variables : \n",
      "[[-4.23736925e-01  2.18192949e-02 -3.30183677e-01 ...  5.95000000e+02\n",
      "   1.58300000e+03  0.00000000e+00]\n",
      " [-8.71484343e-02 -4.62258950e-01 -9.63913009e-02 ...  4.59000000e+02\n",
      "   3.88000000e+02  0.00000000e+00]\n",
      " [ 2.46042365e-02 -4.40365365e-01 -8.85742832e-02 ...  5.15000000e+02\n",
      "   1.67100000e+03  0.00000000e+00]\n",
      " ...\n",
      " [-1.87395348e-01 -3.92346429e-01 -1.28873773e-01 ...  5.41000000e+02\n",
      "   2.34000000e+02  0.00000000e+00]\n",
      " [-2.44790616e-02 -5.52402784e-01 -1.88995025e-01 ...  5.94000000e+02\n",
      "   4.77000000e+02  1.00000000e+00]\n",
      " [-6.13786014e-02 -4.56816990e-01  1.57993122e-01 ...  4.19000000e+02\n",
      "   2.72000000e+02  0.00000000e+00]]\n",
      "Target variable : \n",
      "[0 0 0 0 1 0 0 0 0 0 1 0 0 0 1 1 1 1 1 1 1 1 0 1 1 1 0 1 1 1 1 1 1 1 1 1 1\n",
      " 1 1 1 1 1 0 1 1 0 1 1 1 1 1 0 1 0 1 1 0 1 1 0 1 0 1 0 1 1 1 1 0 1 1 1 0 1\n",
      " 1 1 1 1 0 1 0 1 1 1 0 0 1 1 0 1 0 1 1 1 1 0 0 0 0 0 0 0 0 0 0 0 1 0 0 1 0\n",
      " 0 1 0 1 0 0 0 1 0 1 1 0 0 0 0 0 0 1 0 0 0 0 0 0 0 0 0 0 0 0 0 0 0 0 1 0 0\n",
      " 0 1]\n"
     ]
    }
   ],
   "source": [
    "print(\"Independent variables : \")\n",
    "print(X)\n",
    "print(\"Target variable : \")\n",
    "print(y)"
   ]
  },
  {
   "cell_type": "code",
   "execution_count": 6,
   "metadata": {},
   "outputs": [],
   "source": [
    "from sklearn.model_selection import train_test_split\n",
    "\n",
    "X_train, X_test, y_train, y_test = train_test_split(X, y, test_size = 0.2, random_state = 123)"
   ]
  },
  {
   "cell_type": "code",
   "execution_count": 7,
   "metadata": {},
   "outputs": [],
   "source": [
    "from sklearn.preprocessing import StandardScaler\n",
    "\n",
    "sc = StandardScaler()\n",
    "X_train = sc.fit_transform(X_train)\n",
    "X_test = sc.transform(X_test)"
   ]
  },
  {
   "cell_type": "code",
   "execution_count": 8,
   "metadata": {},
   "outputs": [],
   "source": [
    "from sklearn.svm import SVC\n",
    "\n",
    "classifier = SVC(kernel = \"linear\")\n",
    "classifier.fit(X_train, y_train)\n",
    "y_pred = classifier.predict(X_test)"
   ]
  },
  {
   "cell_type": "code",
   "execution_count": 9,
   "metadata": {},
   "outputs": [
    {
     "name": "stdout",
     "output_type": "stream",
     "text": [
      "[[12  6]\n",
      " [ 3  9]]\n",
      "              precision    recall  f1-score   support\n",
      "\n",
      "           0       0.80      0.67      0.73        18\n",
      "           1       0.60      0.75      0.67        12\n",
      "\n",
      "    accuracy                           0.70        30\n",
      "   macro avg       0.70      0.71      0.70        30\n",
      "weighted avg       0.72      0.70      0.70        30\n",
      "\n",
      "0.7\n",
      "0.7083333333333334\n"
     ]
    }
   ],
   "source": [
    "from sklearn.metrics import confusion_matrix, classification_report, accuracy_score, roc_auc_score\n",
    "\n",
    "print(confusion_matrix(y_test, y_pred))\n",
    "print(classification_report(y_test, y_pred))\n",
    "print(accuracy_score(y_test, y_pred))\n",
    "print(roc_auc_score(y_test, y_pred))"
   ]
  },
  {
   "cell_type": "code",
   "execution_count": 10,
   "metadata": {},
   "outputs": [
    {
     "name": "stdout",
     "output_type": "stream",
     "text": [
      "[0 1 1 0 1 0 1 0 1 1 0 0 1 0 1 0 1 0 0 1 1 0 1 0 1 1 0 1 0 0]\n",
      "[0 1 0 0 1 0 1 0 0 0 0 1 0 0 0 0 1 0 0 0 1 0 1 0 1 1 1 1 0 1]\n"
     ]
    }
   ],
   "source": [
    "print(y_pred)\n",
    "print(y_test)"
   ]
  },
  {
   "cell_type": "code",
   "execution_count": null,
   "metadata": {},
   "outputs": [],
   "source": []
  }
 ],
 "metadata": {
  "kernelspec": {
   "display_name": "Python 3",
   "language": "python",
   "name": "python3"
  },
  "language_info": {
   "codemirror_mode": {
    "name": "ipython",
    "version": 3
   },
   "file_extension": ".py",
   "mimetype": "text/x-python",
   "name": "python",
   "nbconvert_exporter": "python",
   "pygments_lexer": "ipython3",
   "version": "3.7.4"
  }
 },
 "nbformat": 4,
 "nbformat_minor": 2
}
